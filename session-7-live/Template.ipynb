{
 "cells": [
  {
   "cell_type": "markdown",
   "metadata": {},
   "source": [
    "# (Analyzing Police Activity)\n",
    "\n",
    "> The data is collected to analyize traffic stops and what affects a police officers to take an action\n",
    "> Source : http://openpolicing.stanford.edu/ \n",
    "#### The data consists of 2 csv file and a merged dataset from the 2 datasets:\n",
    "- police.csv : contains the date for each stop,driver gender,driver race,violation,arrested or not and other many\n",
    "- weather_subset : contains date and temparture at this date\n",
    "- police_weather : merged dataset from the previous two ,in order to analyze police activity with weather"
   ]
  },
  {
   "cell_type": "code",
   "execution_count": 10,
   "metadata": {},
   "outputs": [],
   "source": [
    "# import all packages and set plots to be embedded inline\n",
    "\n",
    "######YOUR CODE HERE####### approx ~ 3-5 lines\n",
    "\n",
    "######END CODE HERE########\n"
   ]
  },
  {
   "cell_type": "code",
   "execution_count": 27,
   "metadata": {},
   "outputs": [],
   "source": [
    "# Load the dataset\n",
    "\n",
    "######YOUR CODE HERE####### approx ~ 1 line\n",
    "\n",
    "######END CODE HERE########\n"
   ]
  },
  {
   "cell_type": "markdown",
   "metadata": {},
   "source": [
    "### Features of interest\n",
    "- driver gender\n",
    "- driver race\n",
    "- stop_outcome\n",
    "- temperature\n",
    "- violation\n",
    "- is_arrested"
   ]
  },
  {
   "cell_type": "markdown",
   "metadata": {},
   "source": [
    "## Univariate Exploration\n",
    "\n",
    "> In this section, investigate distributions of individual variables. If\n",
    "you see unusual points or outliers, take a deeper look to clean things up\n",
    "and prepare yourself to look at relationships between variables."
   ]
  },
  {
   "cell_type": "markdown",
   "metadata": {},
   "source": [
    "## First let's take a look on the difference in gender of the drivers"
   ]
  },
  {
   "cell_type": "code",
   "execution_count": 1,
   "metadata": {},
   "outputs": [],
   "source": [
    "######YOUR CODE HERE####### approx ~ 2-3 lines\n",
    "\n",
    "######END CODE HERE########"
   ]
  },
  {
   "cell_type": "markdown",
   "metadata": {},
   "source": [
    "## Check percentage of arrested drivers on the stoppings\n"
   ]
  },
  {
   "cell_type": "code",
   "execution_count": 2,
   "metadata": {},
   "outputs": [],
   "source": [
    "######YOUR CODE HERE####### approx ~ 1-2 lines\n",
    "\n",
    "######END CODE HERE########"
   ]
  },
  {
   "cell_type": "markdown",
   "metadata": {},
   "source": [
    "### Check most common stop duration "
   ]
  },
  {
   "cell_type": "code",
   "execution_count": 3,
   "metadata": {},
   "outputs": [],
   "source": [
    "######YOUR CODE HERE####### approx ~ 2-3 lines\n",
    "\n",
    "######END CODE HERE########"
   ]
  },
  {
   "cell_type": "markdown",
   "metadata": {},
   "source": [
    "### What is the common race in the dataset ?"
   ]
  },
  {
   "cell_type": "code",
   "execution_count": 4,
   "metadata": {},
   "outputs": [],
   "source": [
    "######YOUR CODE HERE####### approx ~ 2-4 lines\n",
    "\n",
    "######END CODE HERE########"
   ]
  },
  {
   "cell_type": "markdown",
   "metadata": {},
   "source": [
    "## Bivariate Exploration\n",
    "\n",
    "> In this section, investigate relationships between pairs of variables in your\n",
    "data. Make sure the variables that you cover here have been introduced in some\n",
    "fashion in the previous section (univariate exploration)."
   ]
  },
  {
   "cell_type": "markdown",
   "metadata": {},
   "source": [
    "### Check which violation is more common"
   ]
  },
  {
   "cell_type": "code",
   "execution_count": 5,
   "metadata": {},
   "outputs": [],
   "source": [
    "######YOUR CODE HERE####### approx ~ 2-3 lines\n",
    "\n",
    "######END CODE HERE########"
   ]
  },
  {
   "cell_type": "markdown",
   "metadata": {},
   "source": [
    "### See if there is any relationship between the gender and violation made"
   ]
  },
  {
   "cell_type": "code",
   "execution_count": 6,
   "metadata": {},
   "outputs": [],
   "source": [
    "######YOUR CODE HERE####### approx ~ 1 line\n",
    "\n",
    "######END CODE HERE########"
   ]
  },
  {
   "cell_type": "markdown",
   "metadata": {},
   "source": [
    "### Explore if males make more violations than females or this is just because of the imbalance in the data set so let's normalize!"
   ]
  },
  {
   "cell_type": "code",
   "execution_count": 46,
   "metadata": {},
   "outputs": [],
   "source": [
    "males_violations = police_weather[police_weather['driver_gender'] == 'M'].violation\n",
    "females_violations = police_weather[police_weather['driver_gender'] == 'F'].violation\n"
   ]
  },
  {
   "cell_type": "code",
   "execution_count": 47,
   "metadata": {},
   "outputs": [
    {
     "data": {
      "text/html": [
       "<div>\n",
       "<style scoped>\n",
       "    .dataframe tbody tr th:only-of-type {\n",
       "        vertical-align: middle;\n",
       "    }\n",
       "\n",
       "    .dataframe tbody tr th {\n",
       "        vertical-align: top;\n",
       "    }\n",
       "\n",
       "    .dataframe thead th {\n",
       "        text-align: right;\n",
       "    }\n",
       "</style>\n",
       "<table border=\"1\" class=\"dataframe\">\n",
       "  <thead>\n",
       "    <tr style=\"text-align: right;\">\n",
       "      <th></th>\n",
       "      <th>Males</th>\n",
       "      <th>Females</th>\n",
       "    </tr>\n",
       "  </thead>\n",
       "  <tbody>\n",
       "    <tr>\n",
       "      <th>Speeding</th>\n",
       "      <td>0.522243</td>\n",
       "      <td>0.658114</td>\n",
       "    </tr>\n",
       "    <tr>\n",
       "      <th>Moving violation</th>\n",
       "      <td>0.206144</td>\n",
       "      <td>0.138218</td>\n",
       "    </tr>\n",
       "    <tr>\n",
       "      <th>Equipment</th>\n",
       "      <td>0.134158</td>\n",
       "      <td>0.105199</td>\n",
       "    </tr>\n",
       "    <tr>\n",
       "      <th>Other</th>\n",
       "      <td>0.058985</td>\n",
       "      <td>0.029738</td>\n",
       "    </tr>\n",
       "    <tr>\n",
       "      <th>Registration/plates</th>\n",
       "      <td>0.042175</td>\n",
       "      <td>0.044418</td>\n",
       "    </tr>\n",
       "    <tr>\n",
       "      <th>Seat belt</th>\n",
       "      <td>0.036296</td>\n",
       "      <td>0.024312</td>\n",
       "    </tr>\n",
       "  </tbody>\n",
       "</table>\n",
       "</div>"
      ],
      "text/plain": [
       "                        Males   Females\n",
       "Speeding             0.522243  0.658114\n",
       "Moving violation     0.206144  0.138218\n",
       "Equipment            0.134158  0.105199\n",
       "Other                0.058985  0.029738\n",
       "Registration/plates  0.042175  0.044418\n",
       "Seat belt            0.036296  0.024312"
      ]
     },
     "execution_count": 47,
     "metadata": {},
     "output_type": "execute_result"
    }
   ],
   "source": [
    "males_proportion = males_violations.value_counts() / len(males_violations)\n",
    "females_proportion = females_violations.value_counts() / len(females_violations)\n",
    "mixed = pd.DataFrame([males_proportion,females_proportion]).T\n",
    "mixed.columns = ['Males','Females']\n",
    "mixed"
   ]
  },
  {
   "cell_type": "code",
   "execution_count": 7,
   "metadata": {},
   "outputs": [],
   "source": [
    "######YOUR CODE HERE####### approx ~ 1-2 lines\n",
    "\n",
    "######END CODE HERE########"
   ]
  },
  {
   "cell_type": "markdown",
   "metadata": {},
   "source": [
    "## Let's see if the police in rhods is racist!"
   ]
  },
  {
   "cell_type": "code",
   "execution_count": 55,
   "metadata": {},
   "outputs": [
    {
     "data": {
      "text/html": [
       "<div>\n",
       "<style scoped>\n",
       "    .dataframe tbody tr th:only-of-type {\n",
       "        vertical-align: middle;\n",
       "    }\n",
       "\n",
       "    .dataframe tbody tr th {\n",
       "        vertical-align: top;\n",
       "    }\n",
       "\n",
       "    .dataframe thead th {\n",
       "        text-align: right;\n",
       "    }\n",
       "</style>\n",
       "<table border=\"1\" class=\"dataframe\">\n",
       "  <thead>\n",
       "    <tr style=\"text-align: right;\">\n",
       "      <th></th>\n",
       "      <th>not_arrested</th>\n",
       "      <th>arrested</th>\n",
       "      <th>arrested_percentage</th>\n",
       "    </tr>\n",
       "    <tr>\n",
       "      <th>driver_race</th>\n",
       "      <th></th>\n",
       "      <th></th>\n",
       "      <th></th>\n",
       "    </tr>\n",
       "  </thead>\n",
       "  <tbody>\n",
       "    <tr>\n",
       "      <th>Asian</th>\n",
       "      <td>2343</td>\n",
       "      <td>46</td>\n",
       "      <td>0.019255</td>\n",
       "    </tr>\n",
       "    <tr>\n",
       "      <th>Black</th>\n",
       "      <td>11516</td>\n",
       "      <td>769</td>\n",
       "      <td>0.062597</td>\n",
       "    </tr>\n",
       "    <tr>\n",
       "      <th>Hispanic</th>\n",
       "      <td>9122</td>\n",
       "      <td>605</td>\n",
       "      <td>0.062198</td>\n",
       "    </tr>\n",
       "    <tr>\n",
       "      <th>Other</th>\n",
       "      <td>263</td>\n",
       "      <td>2</td>\n",
       "      <td>0.007547</td>\n",
       "    </tr>\n",
       "    <tr>\n",
       "      <th>White</th>\n",
       "      <td>60214</td>\n",
       "      <td>1656</td>\n",
       "      <td>0.026766</td>\n",
       "    </tr>\n",
       "  </tbody>\n",
       "</table>\n",
       "</div>"
      ],
      "text/plain": [
       "             not_arrested  arrested  arrested_percentage\n",
       "driver_race                                             \n",
       "Asian                2343        46             0.019255\n",
       "Black               11516       769             0.062597\n",
       "Hispanic             9122       605             0.062198\n",
       "Other                 263         2             0.007547\n",
       "White               60214      1656             0.026766"
      ]
     },
     "execution_count": 55,
     "metadata": {},
     "output_type": "execute_result"
    }
   ],
   "source": [
    "ct_counts = police_weather.groupby(['is_arrested', 'driver_race']).size()\n",
    "ct_counts = ct_counts.reset_index()\n",
    "ct_counts = ct_counts.pivot(index = 'driver_race', columns = 'is_arrested')\n",
    "ct_counts.columns = ['not_arrested','arrested']\n",
    "ct_counts['arrested_percentage'] = ct_counts.arrested / ct_counts.sum(axis=1)\n",
    "ct_counts.head()"
   ]
  },
  {
   "cell_type": "code",
   "execution_count": 8,
   "metadata": {},
   "outputs": [],
   "source": [
    "######YOUR CODE HERE####### approx ~ 2-3 lines\n",
    "\n",
    "######END CODE HERE########"
   ]
  },
  {
   "cell_type": "code",
   "execution_count": null,
   "metadata": {},
   "outputs": [],
   "source": []
  },
  {
   "cell_type": "markdown",
   "metadata": {},
   "source": [
    "## Does weather affects arresting rate ?"
   ]
  },
  {
   "cell_type": "code",
   "execution_count": 58,
   "metadata": {},
   "outputs": [],
   "source": [
    "# Feature select the temperature from TMAX,TMIN -> TAVG\n",
    "police_weather['TAVG'] = (police_weather['TMAX'] + police_weather['TMIN']) / 2"
   ]
  },
  {
   "cell_type": "code",
   "execution_count": 9,
   "metadata": {},
   "outputs": [],
   "source": [
    "######YOUR CODE HERE####### approx ~ 1 line\n",
    "\n",
    "######END CODE HERE########"
   ]
  },
  {
   "cell_type": "markdown",
   "metadata": {},
   "source": [
    "##  Multivariate Exploration:\n",
    "### Does temprature affects arrestance ?"
   ]
  },
  {
   "cell_type": "code",
   "execution_count": 66,
   "metadata": {},
   "outputs": [
    {
     "data": {
      "text/html": [
       "<div>\n",
       "<style scoped>\n",
       "    .dataframe tbody tr th:only-of-type {\n",
       "        vertical-align: middle;\n",
       "    }\n",
       "\n",
       "    .dataframe tbody tr th {\n",
       "        vertical-align: top;\n",
       "    }\n",
       "\n",
       "    .dataframe thead th {\n",
       "        text-align: right;\n",
       "    }\n",
       "</style>\n",
       "<table border=\"1\" class=\"dataframe\">\n",
       "  <thead>\n",
       "    <tr style=\"text-align: right;\">\n",
       "      <th></th>\n",
       "      <th>violation</th>\n",
       "      <th>temp_cat</th>\n",
       "      <th>is_arrested</th>\n",
       "    </tr>\n",
       "  </thead>\n",
       "  <tbody>\n",
       "    <tr>\n",
       "      <th>0</th>\n",
       "      <td>Equipment</td>\n",
       "      <td>Low</td>\n",
       "      <td>2819</td>\n",
       "    </tr>\n",
       "    <tr>\n",
       "      <th>1</th>\n",
       "      <td>Equipment</td>\n",
       "      <td>Mid</td>\n",
       "      <td>2709</td>\n",
       "    </tr>\n",
       "    <tr>\n",
       "      <th>2</th>\n",
       "      <td>Equipment</td>\n",
       "      <td>High</td>\n",
       "      <td>2586</td>\n",
       "    </tr>\n",
       "    <tr>\n",
       "      <th>3</th>\n",
       "      <td>Equipment</td>\n",
       "      <td>Very High</td>\n",
       "      <td>2800</td>\n",
       "    </tr>\n",
       "    <tr>\n",
       "      <th>4</th>\n",
       "      <td>Moving violation</td>\n",
       "      <td>Low</td>\n",
       "      <td>3928</td>\n",
       "    </tr>\n",
       "  </tbody>\n",
       "</table>\n",
       "</div>"
      ],
      "text/plain": [
       "          violation   temp_cat  is_arrested\n",
       "0         Equipment        Low         2819\n",
       "1         Equipment        Mid         2709\n",
       "2         Equipment       High         2586\n",
       "3         Equipment  Very High         2800\n",
       "4  Moving violation        Low         3928"
      ]
     },
     "execution_count": 66,
     "metadata": {},
     "output_type": "execute_result"
    }
   ],
   "source": [
    "# Make temperature categorical\n",
    "police_weather['temp_cat'] = pd.cut(police_weather.TAVG,np.array([7,39,53,67,88]),labels = ['Low','Mid','High','Very High'])\n",
    "\n",
    "temp_arrestance = police_weather[['temp_cat','is_arrested','violation']].groupby(['violation','temp_cat']).count()\n",
    "temp_arrestance = temp_arrestance.reset_index()\n",
    "\n",
    "temp_arrestance.head()"
   ]
  },
  {
   "cell_type": "code",
   "execution_count": 86,
   "metadata": {},
   "outputs": [],
   "source": [
    "######YOUR CODE HERE####### approx ~ 1 line\n",
    "\n",
    "######END CODE HERE########"
   ]
  },
  {
   "cell_type": "code",
   "execution_count": null,
   "metadata": {},
   "outputs": [],
   "source": []
  }
 ],
 "metadata": {
  "kernelspec": {
   "display_name": "Python 3",
   "language": "python",
   "name": "python3"
  },
  "language_info": {
   "codemirror_mode": {
    "name": "ipython",
    "version": 3
   },
   "file_extension": ".py",
   "mimetype": "text/x-python",
   "name": "python",
   "nbconvert_exporter": "python",
   "pygments_lexer": "ipython3",
   "version": "3.8.8"
  }
 },
 "nbformat": 4,
 "nbformat_minor": 4
}
