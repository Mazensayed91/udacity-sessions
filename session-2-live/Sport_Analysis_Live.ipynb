{
 "cells": [
  {
   "cell_type": "code",
   "execution_count": 43,
   "id": "4feebaf3",
   "metadata": {},
   "outputs": [],
   "source": [
    "import pandas as pd\n",
    "import matplotlib.pyplot as plt\n",
    "import seaborn as sns\n",
    "import numpy"
   ]
  },
  {
   "cell_type": "code",
   "execution_count": 5,
   "id": "586f1135",
   "metadata": {},
   "outputs": [],
   "source": [
    "df_activities = pd.read_csv('datasets/cardioActivities.csv', parse_dates=True, index_col='Date')"
   ]
  },
  {
   "cell_type": "markdown",
   "id": "13d20b7b",
   "metadata": {},
   "source": [
    "# Ask Questions\n",
    "\n",
    "-\n",
    "-"
   ]
  },
  {
   "cell_type": "markdown",
   "id": "ac06290d",
   "metadata": {},
   "source": [
    "# Wrangle Data "
   ]
  },
  {
   "cell_type": "code",
   "execution_count": 6,
   "id": "8d7a1969",
   "metadata": {},
   "outputs": [
    {
     "data": {
      "text/html": [
       "<div>\n",
       "<style scoped>\n",
       "    .dataframe tbody tr th:only-of-type {\n",
       "        vertical-align: middle;\n",
       "    }\n",
       "\n",
       "    .dataframe tbody tr th {\n",
       "        vertical-align: top;\n",
       "    }\n",
       "\n",
       "    .dataframe thead th {\n",
       "        text-align: right;\n",
       "    }\n",
       "</style>\n",
       "<table border=\"1\" class=\"dataframe\">\n",
       "  <thead>\n",
       "    <tr style=\"text-align: right;\">\n",
       "      <th></th>\n",
       "      <th>Activity Id</th>\n",
       "      <th>Type</th>\n",
       "      <th>Route Name</th>\n",
       "      <th>Distance (km)</th>\n",
       "      <th>Duration</th>\n",
       "      <th>Average Pace</th>\n",
       "      <th>Average Speed (km/h)</th>\n",
       "      <th>Calories Burned</th>\n",
       "      <th>Climb (m)</th>\n",
       "      <th>Average Heart Rate (bpm)</th>\n",
       "      <th>Friend's Tagged</th>\n",
       "      <th>Notes</th>\n",
       "      <th>GPX File</th>\n",
       "    </tr>\n",
       "    <tr>\n",
       "      <th>Date</th>\n",
       "      <th></th>\n",
       "      <th></th>\n",
       "      <th></th>\n",
       "      <th></th>\n",
       "      <th></th>\n",
       "      <th></th>\n",
       "      <th></th>\n",
       "      <th></th>\n",
       "      <th></th>\n",
       "      <th></th>\n",
       "      <th></th>\n",
       "      <th></th>\n",
       "      <th></th>\n",
       "    </tr>\n",
       "  </thead>\n",
       "  <tbody>\n",
       "    <tr>\n",
       "      <th>2018-11-11 14:05:12</th>\n",
       "      <td>c9627fed-14ac-47a2-bed3-2a2630c63c15</td>\n",
       "      <td>Running</td>\n",
       "      <td>NaN</td>\n",
       "      <td>10.44</td>\n",
       "      <td>58:40</td>\n",
       "      <td>5:37</td>\n",
       "      <td>10.68</td>\n",
       "      <td>774.0</td>\n",
       "      <td>130</td>\n",
       "      <td>159.0</td>\n",
       "      <td>NaN</td>\n",
       "      <td>NaN</td>\n",
       "      <td>2018-11-11-140512.gpx</td>\n",
       "    </tr>\n",
       "    <tr>\n",
       "      <th>2018-11-09 15:02:35</th>\n",
       "      <td>be65818d-a801-4847-a43b-2acdf4dc70e7</td>\n",
       "      <td>Running</td>\n",
       "      <td>NaN</td>\n",
       "      <td>12.84</td>\n",
       "      <td>1:14:12</td>\n",
       "      <td>5:47</td>\n",
       "      <td>10.39</td>\n",
       "      <td>954.0</td>\n",
       "      <td>168</td>\n",
       "      <td>159.0</td>\n",
       "      <td>NaN</td>\n",
       "      <td>NaN</td>\n",
       "      <td>2018-11-09-150235.gpx</td>\n",
       "    </tr>\n",
       "    <tr>\n",
       "      <th>2018-11-04 16:05:00</th>\n",
       "      <td>c09b2f92-f855-497c-b624-c196b3ef036c</td>\n",
       "      <td>Running</td>\n",
       "      <td>NaN</td>\n",
       "      <td>13.01</td>\n",
       "      <td>1:15:16</td>\n",
       "      <td>5:47</td>\n",
       "      <td>10.37</td>\n",
       "      <td>967.0</td>\n",
       "      <td>171</td>\n",
       "      <td>155.0</td>\n",
       "      <td>NaN</td>\n",
       "      <td>NaN</td>\n",
       "      <td>2018-11-04-160500.gpx</td>\n",
       "    </tr>\n",
       "    <tr>\n",
       "      <th>2018-11-01 14:03:58</th>\n",
       "      <td>bc9b612d-3499-43ff-b82a-9b17b71b8a36</td>\n",
       "      <td>Running</td>\n",
       "      <td>NaN</td>\n",
       "      <td>12.98</td>\n",
       "      <td>1:14:25</td>\n",
       "      <td>5:44</td>\n",
       "      <td>10.47</td>\n",
       "      <td>960.0</td>\n",
       "      <td>169</td>\n",
       "      <td>158.0</td>\n",
       "      <td>NaN</td>\n",
       "      <td>NaN</td>\n",
       "      <td>2018-11-01-140358.gpx</td>\n",
       "    </tr>\n",
       "    <tr>\n",
       "      <th>2018-10-27 17:01:36</th>\n",
       "      <td>972567b2-1b0e-437c-9e82-fef8078d6438</td>\n",
       "      <td>Running</td>\n",
       "      <td>NaN</td>\n",
       "      <td>13.02</td>\n",
       "      <td>1:12:50</td>\n",
       "      <td>5:36</td>\n",
       "      <td>10.73</td>\n",
       "      <td>967.0</td>\n",
       "      <td>170</td>\n",
       "      <td>154.0</td>\n",
       "      <td>NaN</td>\n",
       "      <td>NaN</td>\n",
       "      <td>2018-10-27-170136.gpx</td>\n",
       "    </tr>\n",
       "  </tbody>\n",
       "</table>\n",
       "</div>"
      ],
      "text/plain": [
       "                                              Activity Id     Type Route Name  \\\n",
       "Date                                                                            \n",
       "2018-11-11 14:05:12  c9627fed-14ac-47a2-bed3-2a2630c63c15  Running        NaN   \n",
       "2018-11-09 15:02:35  be65818d-a801-4847-a43b-2acdf4dc70e7  Running        NaN   \n",
       "2018-11-04 16:05:00  c09b2f92-f855-497c-b624-c196b3ef036c  Running        NaN   \n",
       "2018-11-01 14:03:58  bc9b612d-3499-43ff-b82a-9b17b71b8a36  Running        NaN   \n",
       "2018-10-27 17:01:36  972567b2-1b0e-437c-9e82-fef8078d6438  Running        NaN   \n",
       "\n",
       "                     Distance (km) Duration Average Pace  \\\n",
       "Date                                                       \n",
       "2018-11-11 14:05:12          10.44    58:40         5:37   \n",
       "2018-11-09 15:02:35          12.84  1:14:12         5:47   \n",
       "2018-11-04 16:05:00          13.01  1:15:16         5:47   \n",
       "2018-11-01 14:03:58          12.98  1:14:25         5:44   \n",
       "2018-10-27 17:01:36          13.02  1:12:50         5:36   \n",
       "\n",
       "                     Average Speed (km/h)  Calories Burned  Climb (m)  \\\n",
       "Date                                                                    \n",
       "2018-11-11 14:05:12                 10.68            774.0        130   \n",
       "2018-11-09 15:02:35                 10.39            954.0        168   \n",
       "2018-11-04 16:05:00                 10.37            967.0        171   \n",
       "2018-11-01 14:03:58                 10.47            960.0        169   \n",
       "2018-10-27 17:01:36                 10.73            967.0        170   \n",
       "\n",
       "                     Average Heart Rate (bpm)  Friend's Tagged Notes  \\\n",
       "Date                                                                   \n",
       "2018-11-11 14:05:12                     159.0              NaN   NaN   \n",
       "2018-11-09 15:02:35                     159.0              NaN   NaN   \n",
       "2018-11-04 16:05:00                     155.0              NaN   NaN   \n",
       "2018-11-01 14:03:58                     158.0              NaN   NaN   \n",
       "2018-10-27 17:01:36                     154.0              NaN   NaN   \n",
       "\n",
       "                                  GPX File  \n",
       "Date                                        \n",
       "2018-11-11 14:05:12  2018-11-11-140512.gpx  \n",
       "2018-11-09 15:02:35  2018-11-09-150235.gpx  \n",
       "2018-11-04 16:05:00  2018-11-04-160500.gpx  \n",
       "2018-11-01 14:03:58  2018-11-01-140358.gpx  \n",
       "2018-10-27 17:01:36  2018-10-27-170136.gpx  "
      ]
     },
     "execution_count": 6,
     "metadata": {},
     "output_type": "execute_result"
    }
   ],
   "source": [
    "df_activities.head()\n",
    "\n",
    "df_activities['Year'] = df_activities.index.year\n",
    "df_activities.Duration = df_activities.Duration.apply(lambda x : int(x.split(\":\")[0]) * 60+ int(x.split(\":\")[1] if len(x)<=5 else int(x.split(\":\")[0]) * 60*60+ int(x.split(\":\")[1])*60+int(x.split(\":\")[2]\n",
    ")))"
   ]
  },
  {
   "cell_type": "code",
   "execution_count": 9,
   "id": "8937f092",
   "metadata": {},
   "outputs": [
    {
     "name": "stdout",
     "output_type": "stream",
     "text": [
      "<class 'pandas.core.frame.DataFrame'>\n",
      "DatetimeIndex: 508 entries, 2018-11-11 14:05:12 to 2012-08-22 18:53:54\n",
      "Data columns (total 13 columns):\n",
      " #   Column                    Non-Null Count  Dtype  \n",
      "---  ------                    --------------  -----  \n",
      " 0   Activity Id               508 non-null    object \n",
      " 1   Type                      508 non-null    object \n",
      " 2   Route Name                1 non-null      object \n",
      " 3   Distance (km)             508 non-null    float64\n",
      " 4   Duration                  508 non-null    object \n",
      " 5   Average Pace              508 non-null    object \n",
      " 6   Average Speed (km/h)      508 non-null    float64\n",
      " 7   Calories Burned           508 non-null    float64\n",
      " 8   Climb (m)                 508 non-null    int64  \n",
      " 9   Average Heart Rate (bpm)  294 non-null    float64\n",
      " 10  Friend's Tagged           0 non-null      float64\n",
      " 11  Notes                     231 non-null    object \n",
      " 12  GPX File                  504 non-null    object \n",
      "dtypes: float64(5), int64(1), object(7)\n",
      "memory usage: 55.6+ KB\n"
     ]
    }
   ],
   "source": [
    "df_activities.info()"
   ]
  },
  {
   "cell_type": "code",
   "execution_count": 11,
   "id": "d769ad96",
   "metadata": {},
   "outputs": [],
   "source": [
    "df_activities.drop(['Route Name', \"Friend's Tagged\", 'Notes', 'GPX File'], axis = 1, inplace=True)"
   ]
  },
  {
   "cell_type": "code",
   "execution_count": 13,
   "id": "676621a3",
   "metadata": {},
   "outputs": [
    {
     "data": {
      "text/plain": [
       "Running    459\n",
       "Cycling     29\n",
       "Walking     18\n",
       "Other        2\n",
       "Name: Type, dtype: int64"
      ]
     },
     "execution_count": 13,
     "metadata": {},
     "output_type": "execute_result"
    }
   ],
   "source": [
    "df_activities.Type.value_counts()"
   ]
  },
  {
   "cell_type": "code",
   "execution_count": 23,
   "id": "e8522b02",
   "metadata": {},
   "outputs": [],
   "source": [
    "\n",
    "\n",
    "avg_running = df_activities[df_activities['Type'] == 'Running']['Average Heart Rate (bpm)'].mean()\n",
    "avg_cycling = df_activities[df_activities['Type'] == 'Cycling']['Average Heart Rate (bpm)'].mean()\n",
    "# avg_walking = df_activities[df_activities['Type'] == 'Walking']['Average Heart Rate (bpm)'].mean()"
   ]
  },
  {
   "cell_type": "code",
   "execution_count": null,
   "id": "6cff78f4",
   "metadata": {},
   "outputs": [],
   "source": [
    "\n",
    "df_run = df_activities[df_activities['Type'] == 'Running'].copy()\n",
    "df_cycle = df_activities[df_activities['Type'] == 'Cycling'].copy()\n",
    "# df_walk = df_activities[df_activities['Type'] == 'Walking'].copy()"
   ]
  },
  {
   "cell_type": "code",
   "execution_count": 25,
   "id": "7bd1dbfa",
   "metadata": {},
   "outputs": [],
   "source": [
    "df_run['Average Heart Rate (bpm)'].fillna(int(avg_running), inplace=True)\n",
    "df_cycle['Average Heart Rate (bpm)'].fillna(int(avg_cycling), inplace=True)\n",
    "# df_walk['Average Heart Rate (bpm)'].fillna(int(avg_walking), inplace=True)"
   ]
  },
  {
   "cell_type": "code",
   "execution_count": 41,
   "id": "7ecda5f0",
   "metadata": {},
   "outputs": [],
   "source": [
    "df_activities.Duration = df_activities.Duration.apply(lambda row: int(row.split(':')[0]) * 60 + \n",
    "                             int(row.split(':')[1]) if len(row.split(':')) <= 2 \n",
    "                             else int(row.split(':')[0]) * 3600 + \n",
    "                             int(row.split(':')[1]) * 60 + int(row.split(':')[2]))\n"
   ]
  },
  {
   "cell_type": "code",
   "execution_count": 48,
   "id": "0b49dec1",
   "metadata": {},
   "outputs": [],
   "source": [
    "df_run.Duration = df_run.Duration.apply(lambda row: int(row.split(':')[0]) * 60 + \n",
    "                             int(row.split(':')[1]) if len(row.split(':')) <= 2 \n",
    "                             else int(row.split(':')[0]) * 3600 + \n",
    "                             int(row.split(':')[1]) * 60 + int(row.split(':')[2]))\n"
   ]
  },
  {
   "cell_type": "markdown",
   "id": "a00f83be",
   "metadata": {},
   "source": [
    "#  Answering Questions:\n",
    "\n",
    "### Q1: How was my run?"
   ]
  },
  {
   "cell_type": "code",
   "execution_count": 68,
   "id": "b983c389",
   "metadata": {},
   "outputs": [
    {
     "data": {
      "text/plain": [
       "Text(0.5, 1.0, 'How intense was my run?')"
      ]
     },
     "execution_count": 68,
     "metadata": {},
     "output_type": "execute_result"
    },
    {
     "data": {
      "image/png": "[encoded data removed]",
      "text/plain": [
       "<Figure size 432x288 with 1 Axes>"
      ]
     },
     "metadata": {},
     "output_type": "display_data"
    }
   ],
   "source": [
    "sns.regplot(data = df_activities, x = 'Duration', y = 'Distance (km)')\n",
    "plt.xlabel('Duration')\n",
    "plt.ylabel('Distance (km)')\n",
    "\n",
    "plt.title(\"How intense was my run?\")"
   ]
  },
  {
   "cell_type": "markdown",
   "id": "281647ca",
   "metadata": {},
   "source": [
    "### Q2: Did I achieve my yearly goal?"
   ]
  },
  {
   "cell_type": "code",
   "execution_count": 71,
   "id": "b94340d2",
   "metadata": {},
   "outputs": [
    {
     "data": {
      "image/png": "[encoded data removed]",
      "text/plain": [
       "<Figure size 720x360 with 1 Axes>"
      ]
     },
     "metadata": {},
     "output_type": "display_data"
    }
   ],
   "source": [
    "plt.style.use('ggplot')\n",
    "\n",
    "df_run_distance_annually = df_run['2018':'2013']['Distance (km)'].resample('A').sum()\n",
    "\n",
    "fig = plt.figure(figsize=(10,5))\n",
    "\n",
    "ax = df_run_distance_annually.plot(marker = '*', markersize=14, color ='blue', linewidth=0)\n",
    "\n",
    "ax.set(\n",
    "    ylim=[0, 1200],\n",
    "    xlim=['2012', '2019'],\n",
    "    ylabel='Distance (km)',\n",
    "    xlabel='Year',\n",
    "    title='Annualy total distance per year'\n",
    ")\n",
    "\n",
    "ax.axhspan(0, 800, color='red', alpha=0.2)\n",
    "ax.axhspan(800, 1000, color='yellow', alpha=0.3)\n",
    "ax.axhspan(1000, 1200, color='green', alpha=0.4)\n",
    "\n",
    "\n",
    "plt.show()"
   ]
  },
  {
   "cell_type": "code",
   "execution_count": null,
   "id": "0c9763fe",
   "metadata": {},
   "outputs": [],
   "source": []
  },
  {
   "cell_type": "code",
   "execution_count": null,
   "id": "2724ba7d",
   "metadata": {},
   "outputs": [],
   "source": []
  }
 ],
 "metadata": {
  "kernelspec": {
   "display_name": "Python 3",
   "language": "python",
   "name": "python3"
  },
  "language_info": {
   "codemirror_mode": {
    "name": "ipython",
    "version": 3
   },
   "file_extension": ".py",
   "mimetype": "text/x-python",
   "name": "python",
   "nbconvert_exporter": "python",
   "pygments_lexer": "ipython3",
   "version": "3.8.8"
  }
 },
 "nbformat": 4,
 "nbformat_minor": 5
}
