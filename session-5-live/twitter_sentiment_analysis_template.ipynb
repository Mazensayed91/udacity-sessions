{
 "cells": [
  {
   "cell_type": "code",
   "execution_count": 2,
   "id": "96a133d8",
   "metadata": {},
   "outputs": [],
   "source": [
    "# Your imports here"
   ]
  },
  {
   "cell_type": "markdown",
   "id": "d938331a",
   "metadata": {},
   "source": [
    "### 1- Authentication"
   ]
  },
  {
   "cell_type": "code",
   "execution_count": null,
   "id": "01510539",
   "metadata": {},
   "outputs": [],
   "source": []
  },
  {
   "cell_type": "markdown",
   "id": "c009001c",
   "metadata": {},
   "source": [
    "### 2- Data Wrangling and EDA"
   ]
  },
  {
   "cell_type": "code",
   "execution_count": null,
   "id": "0d7c5673",
   "metadata": {},
   "outputs": [],
   "source": []
  },
  {
   "cell_type": "markdown",
   "id": "6205b599",
   "metadata": {},
   "source": [
    "### 3- Modeling (Naive Bayes)"
   ]
  },
  {
   "cell_type": "code",
   "execution_count": null,
   "id": "7ac8ab7d",
   "metadata": {},
   "outputs": [],
   "source": []
  },
  {
   "cell_type": "markdown",
   "id": "2fe24df9",
   "metadata": {},
   "source": [
    "### 4- Predection & Explantory Data Analysis"
   ]
  },
  {
   "cell_type": "markdown",
   "id": "06aa207a",
   "metadata": {},
   "source": []
  },
  {
   "cell_type": "code",
   "execution_count": null,
   "id": "8bbae814",
   "metadata": {},
   "outputs": [],
   "source": []
  }
 ],
 "metadata": {
  "kernelspec": {
   "display_name": "Python 3",
   "language": "python",
   "name": "python3"
  },
  "language_info": {
   "codemirror_mode": {
    "name": "ipython",
    "version": 3
   },
   "file_extension": ".py",
   "mimetype": "text/x-python",
   "name": "python",
   "nbconvert_exporter": "python",
   "pygments_lexer": "ipython3",
   "version": "3.8.8"
  }
 },
 "nbformat": 4,
 "nbformat_minor": 5
}
