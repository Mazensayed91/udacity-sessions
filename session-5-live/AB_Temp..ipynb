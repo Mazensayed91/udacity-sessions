{
 "cells": [
  {
   "cell_type": "markdown",
   "metadata": {},
   "source": [
    "## Import The Data"
   ]
  },
  {
   "cell_type": "code",
   "execution_count": null,
   "metadata": {},
   "outputs": [],
   "source": []
  },
  {
   "cell_type": "markdown",
   "metadata": {},
   "source": [
    "## Probability\n",
    "\n",
    "- What is The proportion of users purchased?\n",
    "- What is the probability of an individual purchasing regardless of the page they receive?\n",
    "- Given that an individual was in the `control` group, what is the probability they purchased?\n",
    "- Given that an individual was in the `treatment` group, what is the probability they purchased?\n",
    "- What is the probability that an individual received the new page?\n"
   ]
  },
  {
   "cell_type": "code",
   "execution_count": null,
   "metadata": {},
   "outputs": [],
   "source": []
  },
  {
   "cell_type": "markdown",
   "metadata": {},
   "source": [
    "## A/B Testing\n",
    "\n",
    "\\begin{equation} H_{0} : p_{old} - p_{new} >= 0 \\end{equation}\n",
    "\n",
    "\\begin{equation} H_{1} : p_{old} - p_{new} < 0 \\end{equation}\n",
    "\n",
    " Assume under the null hypothesis, $p_{new}$ and $p_{old}$ both have \"true\" success rates equal to the **purchased** success rate regardless of page - that is $p_{new}$ and $p_{old}$ are equal. Furthermore, assume they are equal to the **purchased** rate in **df** regardless of the page. <br><br>\n",
    " \n",
    " ### Create a difference histogram using binomial r.v then bootstrapping\n",
    "\n",
    "Hint: First calculate $p_{new}$ , $p_{old}$ , $n_{new}$ , $n_{old}$"
   ]
  },
  {
   "cell_type": "code",
   "execution_count": null,
   "metadata": {},
   "outputs": [],
   "source": []
  },
  {
   "cell_type": "markdown",
   "metadata": {},
   "source": [
    "## Confidence Intervals\n",
    "\n",
    "- calculate C.I at alpha level 5%"
   ]
  },
  {
   "cell_type": "code",
   "execution_count": null,
   "metadata": {},
   "outputs": [],
   "source": []
  }
 ],
 "metadata": {
  "kernelspec": {
   "display_name": "Python 3",
   "language": "python",
   "name": "python3"
  },
  "language_info": {
   "codemirror_mode": {
    "name": "ipython",
    "version": 3
   },
   "file_extension": ".py",
   "mimetype": "text/x-python",
   "name": "python",
   "nbconvert_exporter": "python",
   "pygments_lexer": "ipython3",
   "version": "3.8.8"
  }
 },
 "nbformat": 4,
 "nbformat_minor": 4
}
