{
 "cells": [
  {
   "cell_type": "markdown",
   "id": "a3def271",
   "metadata": {},
   "source": [
    "### Imports"
   ]
  },
  {
   "cell_type": "code",
   "execution_count": 1,
   "id": "50ba49a7",
   "metadata": {},
   "outputs": [],
   "source": [
    "# Your Imports here\n",
    "from textblob import TextBlob\n",
    "import sys\n",
    "import tweepy\n",
    "import matplotlib.pyplot as plt\n",
    "import pandas as pd\n",
    "import numpy as np\n",
    "import os\n",
    "import nltk\n",
    "import pycountry\n",
    "import re\n",
    "import string\n",
    "from wordcloud import WordCloud, STOPWORDS\n",
    "from PIL import Image\n",
    "from nltk.sentiment.vader import SentimentIntensityAnalyzer\n",
    "from langdetect import detect\n",
    "from nltk.stem import SnowballStemmer\n",
    "from nltk.sentiment.vader import SentimentIntensityAnalyzer\n",
    "from sklearn.feature_extraction.text import CountVectorizer\n",
    "from sklearn.model_selection import train_test_split\n",
    "import joblib\n",
    "from sklearn.naive_bayes import MultinomialNB\n"
   ]
  },
  {
   "cell_type": "markdown",
   "id": "713549e3",
   "metadata": {},
   "source": [
    "### 1- Authentication"
   ]
  },
  {
   "cell_type": "code",
   "execution_count": 2,
   "id": "ddbda6b4",
   "metadata": {},
   "outputs": [],
   "source": [
    "# Authentication\n",
    "auth_data = pd.read_csv(\"env.csv\", header=None)[1]\n",
    "consumerKey = auth_data[0]\n",
    "consumerSecret = auth_data[1]\n",
    "accessToken = auth_data[2]\n",
    "accessTokenSecret = auth_data[3]\n",
    "auth = tweepy.OAuthHandler(consumerKey, consumerSecret)\n",
    "auth.set_access_token(accessToken, accessTokenSecret)\n",
    "api = tweepy.API(auth)"
   ]
  },
  {
   "cell_type": "code",
   "execution_count": null,
   "id": "b62ee50f",
   "metadata": {},
   "outputs": [],
   "source": []
  },
  {
   "cell_type": "code",
   "execution_count": null,
   "id": "5d78c64e",
   "metadata": {},
   "outputs": [],
   "source": []
  },
  {
   "cell_type": "code",
   "execution_count": 3,
   "id": "09d7ba1a",
   "metadata": {},
   "outputs": [],
   "source": [
    "tweets_df = pd.read_csv('tweets.csv').drop(\"Unnamed: 0\", axis=1)"
   ]
  },
  {
   "cell_type": "code",
   "execution_count": null,
   "id": "4a618387",
   "metadata": {},
   "outputs": [],
   "source": []
  },
  {
   "cell_type": "markdown",
   "id": "dc68101c",
   "metadata": {},
   "source": [
    "### 2- Data Wrangling and EDA"
   ]
  },
  {
   "cell_type": "code",
   "execution_count": 4,
   "id": "0633d56a",
   "metadata": {},
   "outputs": [],
   "source": [
    "keyword = \"data analysis\"\n",
    "noOfTweet = 100\n",
    "tweets = tweepy.Cursor(api.search, q=keyword).items(noOfTweet)\n",
    "\n",
    "tweets_dictionary = {'tweets':[]}\n",
    "\n",
    "for tweet in tweets:\n",
    "    tweets_dictionary['tweets'].append(tweet.text)"
   ]
  },
  {
   "cell_type": "code",
   "execution_count": 5,
   "id": "8951302a",
   "metadata": {},
   "outputs": [],
   "source": [
    "tweets_df = pd.DataFrame(tweets_dictionary)"
   ]
  },
  {
   "cell_type": "code",
   "execution_count": 6,
   "id": "7a6f26b7",
   "metadata": {},
   "outputs": [
    {
     "data": {
      "text/html": [
       "<div>\n",
       "<style scoped>\n",
       "    .dataframe tbody tr th:only-of-type {\n",
       "        vertical-align: middle;\n",
       "    }\n",
       "\n",
       "    .dataframe tbody tr th {\n",
       "        vertical-align: top;\n",
       "    }\n",
       "\n",
       "    .dataframe thead th {\n",
       "        text-align: right;\n",
       "    }\n",
       "</style>\n",
       "<table border=\"1\" class=\"dataframe\">\n",
       "  <thead>\n",
       "    <tr style=\"text-align: right;\">\n",
       "      <th></th>\n",
       "      <th>package_name</th>\n",
       "      <th>review</th>\n",
       "      <th>polarity</th>\n",
       "    </tr>\n",
       "  </thead>\n",
       "  <tbody>\n",
       "    <tr>\n",
       "      <th>0</th>\n",
       "      <td>com.facebook.katana</td>\n",
       "      <td>privacy at least put some option appear offli...</td>\n",
       "      <td>0</td>\n",
       "    </tr>\n",
       "    <tr>\n",
       "      <th>1</th>\n",
       "      <td>com.facebook.katana</td>\n",
       "      <td>messenger issues ever since the last update, ...</td>\n",
       "      <td>0</td>\n",
       "    </tr>\n",
       "    <tr>\n",
       "      <th>2</th>\n",
       "      <td>com.facebook.katana</td>\n",
       "      <td>profile any time my wife or anybody has more ...</td>\n",
       "      <td>0</td>\n",
       "    </tr>\n",
       "    <tr>\n",
       "      <th>3</th>\n",
       "      <td>com.facebook.katana</td>\n",
       "      <td>the new features suck for those of us who don...</td>\n",
       "      <td>0</td>\n",
       "    </tr>\n",
       "    <tr>\n",
       "      <th>4</th>\n",
       "      <td>com.facebook.katana</td>\n",
       "      <td>forced reload on uploading pic on replying co...</td>\n",
       "      <td>0</td>\n",
       "    </tr>\n",
       "  </tbody>\n",
       "</table>\n",
       "</div>"
      ],
      "text/plain": [
       "          package_name                                             review  \\\n",
       "0  com.facebook.katana   privacy at least put some option appear offli...   \n",
       "1  com.facebook.katana   messenger issues ever since the last update, ...   \n",
       "2  com.facebook.katana   profile any time my wife or anybody has more ...   \n",
       "3  com.facebook.katana   the new features suck for those of us who don...   \n",
       "4  com.facebook.katana   forced reload on uploading pic on replying co...   \n",
       "\n",
       "   polarity  \n",
       "0         0  \n",
       "1         0  \n",
       "2         0  \n",
       "3         0  \n",
       "4         0  "
      ]
     },
     "execution_count": 6,
     "metadata": {},
     "output_type": "execute_result"
    }
   ],
   "source": [
    "data = pd.read_csv(\"sentiment_data.csv\")\n",
    "data.head()"
   ]
  },
  {
   "cell_type": "code",
   "execution_count": 7,
   "id": "827840df",
   "metadata": {},
   "outputs": [],
   "source": [
    "data = data.drop('package_name', axis=1)"
   ]
  },
  {
   "cell_type": "markdown",
   "id": "42cceafd",
   "metadata": {},
   "source": [
    "### 2- Data Wrangling and EDA"
   ]
  },
  {
   "cell_type": "code",
   "execution_count": 8,
   "id": "edcdd5a1",
   "metadata": {},
   "outputs": [],
   "source": [
    "data['review'] = data['review'].str.strip().str.lower()"
   ]
  },
  {
   "cell_type": "code",
   "execution_count": null,
   "id": "599fe414",
   "metadata": {},
   "outputs": [],
   "source": []
  },
  {
   "cell_type": "markdown",
   "id": "24fd41db",
   "metadata": {},
   "source": [
    "### 3- Modeling (Naive Bayes)"
   ]
  },
  {
   "cell_type": "code",
   "execution_count": 9,
   "id": "7c72c1a0",
   "metadata": {},
   "outputs": [],
   "source": [
    "# Split into training and testing data\n",
    "x = data['review']\n",
    "y = data['polarity']\n",
    "x, x_test, y, y_test = train_test_split(x,y, stratify=y, test_size=0.25, random_state=42)"
   ]
  },
  {
   "cell_type": "code",
   "execution_count": 10,
   "id": "11c86cd5",
   "metadata": {},
   "outputs": [],
   "source": [
    "# Vectorize text reviews to numbers\n",
    "vec = CountVectorizer(stop_words='english')\n",
    "x = vec.fit_transform(x).toarray()\n",
    "x_test = vec.transform(x_test).toarray()\n",
    "\n"
   ]
  },
  {
   "cell_type": "code",
   "execution_count": 11,
   "id": "1296c7b4",
   "metadata": {},
   "outputs": [
    {
     "data": {
      "text/plain": [
       "0.8565022421524664"
      ]
     },
     "execution_count": 11,
     "metadata": {},
     "output_type": "execute_result"
    }
   ],
   "source": [
    "model = MultinomialNB()\n",
    "model.fit(x, y)\n",
    "\n",
    "model.score(x_test, y_test)\n"
   ]
  },
  {
   "cell_type": "markdown",
   "id": "a05f6bec",
   "metadata": {},
   "source": [
    "### 4- Predection & Explantory Data Analysis"
   ]
  },
  {
   "cell_type": "code",
   "execution_count": 12,
   "id": "e2bafdb5",
   "metadata": {},
   "outputs": [],
   "source": [
    "predicted_polarities = tweets_df.tweets.apply(lambda row: model.predict(vec.transform([row]))[0])"
   ]
  },
  {
   "cell_type": "code",
   "execution_count": 13,
   "id": "dbccde03",
   "metadata": {},
   "outputs": [],
   "source": [
    "positive = predicted_polarities.mean()\n",
    "negative = 1- positive"
   ]
  },
  {
   "cell_type": "code",
   "execution_count": 16,
   "id": "13458ac7",
   "metadata": {},
   "outputs": [
    {
     "data": {
      "image/png": "[encoded data removed]",
      "text/plain": [
       "<Figure size 640x480 with 1 Axes>"
      ]
     },
     "metadata": {},
     "output_type": "display_data"
    }
   ],
   "source": [
    "#Creating PieCart\n",
    "labels = [\"Positive [\"+str(positive)+\"%]\" \" Negative [\"+str(negative)+\"%]\"]\n",
    "sizes = [positive, negative]\n",
    "colors = [\"blue\",\"red\"]\n",
    "patches, texts = plt.pie(sizes,colors=colors)\n",
    "plt.style.use(\"default\")\n",
    "plt.legend(labels)\n",
    "plt.title(\"Sentiment Analysis Result for keyword= \"+keyword+\"\" )\n",
    "plt.axis(\"equal\")\n",
    "plt.show()"
   ]
  },
  {
   "cell_type": "code",
   "execution_count": 23,
   "id": "5551b1ae",
   "metadata": {},
   "outputs": [
    {
     "data": {
      "image/png": "[encoded data removed]",
      "text/plain": [
       "<Figure size 640x480 with 1 Axes>"
      ]
     },
     "metadata": {},
     "output_type": "display_data"
    }
   ],
   "source": [
    "\n",
    "plt.pie([positive, negative],colors=['blue', 'red']);\n",
    "plt.title(\"Sentiment Analysis Result for keyword= \"+keyword+\"\" )\n",
    "plt.xlabel(\"Positive [\"+str(positive)+\"%]\" \" Negative [\"+str(negative)+\"%]\");"
   ]
  },
  {
   "cell_type": "code",
   "execution_count": null,
   "id": "091bcdca",
   "metadata": {},
   "outputs": [],
   "source": []
  }
 ],
 "metadata": {
  "kernelspec": {
   "display_name": "Python 3",
   "language": "python",
   "name": "python3"
  },
  "language_info": {
   "codemirror_mode": {
    "name": "ipython",
    "version": 3
   },
   "file_extension": ".py",
   "mimetype": "text/x-python",
   "name": "python",
   "nbconvert_exporter": "python",
   "pygments_lexer": "ipython3",
   "version": "3.8.8"
  }
 },
 "nbformat": 4,
 "nbformat_minor": 5
}
